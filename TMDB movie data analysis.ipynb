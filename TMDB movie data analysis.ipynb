{
 "cells": [
  {
   "cell_type": "markdown",
   "metadata": {},
   "source": [
    "> \n",
    "# Project:TMDB movie data analysis\n",
    "## Table of Contents\n",
    "<ul>\n",
    "<li><a href=\"#intro\">Introduction</a></li>\n",
    "<li><a href=\"#wrangling\">Data Wrangling</a></li>\n",
    "<li><a href=\"#eda\">Exploratory Data Analysis</a></li>\n",
    "<li><a href=\"#conclusions\">Conclusions</a></li>\n",
    "</ul>"
   ]
  },
  {
   "cell_type": "markdown",
   "metadata": {},
   "source": [
    "<a id='intro'></a>\n",
    "## Introduction\n",
    "\n",
    "### Dataset Description \n",
    "\n",
    ">  The Movie Database (TMDb) is a popular, user editable database for movies and TV shows.This data set contains information about 10,000 movies collected from The Movie Database (TMDb), including user ratings and revenue.\n",
    "\n",
    "\n",
    "### Question(s) for Analysis\n",
    "* Which genres are most popular from year to year? \n",
    "* What kinds of properties are associated with movies that have high revenues?\n",
    " "
   ]
  },
  {
   "cell_type": "markdown",
   "metadata": {},
   "source": [
    "### Data Gathering"
   ]
  },
  {
   "cell_type": "markdown",
   "metadata": {},
   "source": [
    "In the cell below, i have downloaded the piece of data needed for this project which was gotten from udacity.com"
   ]
  },
  {
   "cell_type": "code",
   "execution_count": 1,
   "metadata": {},
   "outputs": [],
   "source": [
    "import pandas as pd\n",
    "import numpy as np\n",
    "import seaborn as sns\n",
    "import matplotlib.pyplot as plt\n",
    "%matplotlib inline"
   ]
  },
  {
   "cell_type": "code",
   "execution_count": 2,
   "metadata": {},
   "outputs": [],
   "source": [
    "data_frame = pd.read_csv('tmdb-movies.csv')"
   ]
  },
  {
   "cell_type": "markdown",
   "metadata": {},
   "source": [
    "<a id='wrangling'></a>\n",
    "## Data Wrangling\n",
    "\n",
    "\n",
    "### General Properties\n"
   ]
  },
  {
   "cell_type": "code",
   "execution_count": 101,
   "metadata": {},
   "outputs": [
    {
     "data": {
      "text/html": [
       "<div>\n",
       "<style scoped>\n",
       "    .dataframe tbody tr th:only-of-type {\n",
       "        vertical-align: middle;\n",
       "    }\n",
       "\n",
       "    .dataframe tbody tr th {\n",
       "        vertical-align: top;\n",
       "    }\n",
       "\n",
       "    .dataframe thead th {\n",
       "        text-align: right;\n",
       "    }\n",
       "</style>\n",
       "<table border=\"1\" class=\"dataframe\">\n",
       "  <thead>\n",
       "    <tr style=\"text-align: right;\">\n",
       "      <th></th>\n",
       "      <th>id</th>\n",
       "      <th>imdb_id</th>\n",
       "      <th>popularity</th>\n",
       "      <th>budget</th>\n",
       "      <th>revenue</th>\n",
       "      <th>original_title</th>\n",
       "      <th>cast</th>\n",
       "      <th>homepage</th>\n",
       "      <th>director</th>\n",
       "      <th>tagline</th>\n",
       "      <th>...</th>\n",
       "      <th>overview</th>\n",
       "      <th>runtime</th>\n",
       "      <th>genres</th>\n",
       "      <th>production_companies</th>\n",
       "      <th>release_date</th>\n",
       "      <th>vote_count</th>\n",
       "      <th>vote_average</th>\n",
       "      <th>release_year</th>\n",
       "      <th>budget_adj</th>\n",
       "      <th>revenue_adj</th>\n",
       "    </tr>\n",
       "  </thead>\n",
       "  <tbody>\n",
       "    <tr>\n",
       "      <th>1445</th>\n",
       "      <td>28211</td>\n",
       "      <td>tt1352824</td>\n",
       "      <td>1.145724</td>\n",
       "      <td>15000000</td>\n",
       "      <td>8459458</td>\n",
       "      <td>Chloe</td>\n",
       "      <td>Julianne Moore|Liam Neeson|Amanda Seyfried|Max...</td>\n",
       "      <td>NaN</td>\n",
       "      <td>Atom Egoyan</td>\n",
       "      <td>If the one you love was lying to you, how far ...</td>\n",
       "      <td>...</td>\n",
       "      <td>A doctor hires an escort to seduce her husband...</td>\n",
       "      <td>96</td>\n",
       "      <td>Drama|Thriller|Mystery</td>\n",
       "      <td>StudioCanal|Montecito Picture Company, The|Out...</td>\n",
       "      <td>3/25/09</td>\n",
       "      <td>297</td>\n",
       "      <td>5.9</td>\n",
       "      <td>2009</td>\n",
       "      <td>1.524601e+07</td>\n",
       "      <td>8.598197e+06</td>\n",
       "    </tr>\n",
       "    <tr>\n",
       "      <th>1000</th>\n",
       "      <td>299939</td>\n",
       "      <td>tt2769184</td>\n",
       "      <td>0.324403</td>\n",
       "      <td>0</td>\n",
       "      <td>0</td>\n",
       "      <td>Debug</td>\n",
       "      <td>Jeananne Goossen|Adrian Holmes|Adam Butcher|Ja...</td>\n",
       "      <td>NaN</td>\n",
       "      <td>David Hewlett</td>\n",
       "      <td>Evil can't be deleted.</td>\n",
       "      <td>...</td>\n",
       "      <td>Six young computer hackers sent to work on a d...</td>\n",
       "      <td>86</td>\n",
       "      <td>Horror|Science Fiction</td>\n",
       "      <td>Copperheart Entertainment|Monkeys &amp; Parrots</td>\n",
       "      <td>11/3/14</td>\n",
       "      <td>24</td>\n",
       "      <td>4.0</td>\n",
       "      <td>2014</td>\n",
       "      <td>0.000000e+00</td>\n",
       "      <td>0.000000e+00</td>\n",
       "    </tr>\n",
       "    <tr>\n",
       "      <th>4411</th>\n",
       "      <td>49529</td>\n",
       "      <td>tt0401729</td>\n",
       "      <td>1.588457</td>\n",
       "      <td>260000000</td>\n",
       "      <td>284139100</td>\n",
       "      <td>John Carter</td>\n",
       "      <td>Taylor Kitsch|Lynn Collins|Mark Strong|Willem ...</td>\n",
       "      <td>http://disney.go.com/johncarter/</td>\n",
       "      <td>Andrew Stanton</td>\n",
       "      <td>Lost in Our World. Found in Another.</td>\n",
       "      <td>...</td>\n",
       "      <td>Civil War vet John Carter is transplanted to M...</td>\n",
       "      <td>132</td>\n",
       "      <td>Action|Adventure|Fantasy|Science Fiction</td>\n",
       "      <td>Walt Disney Pictures</td>\n",
       "      <td>3/7/12</td>\n",
       "      <td>1479</td>\n",
       "      <td>6.0</td>\n",
       "      <td>2012</td>\n",
       "      <td>2.469335e+08</td>\n",
       "      <td>2.698595e+08</td>\n",
       "    </tr>\n",
       "    <tr>\n",
       "      <th>1089</th>\n",
       "      <td>243352</td>\n",
       "      <td>tt3200980</td>\n",
       "      <td>0.129935</td>\n",
       "      <td>0</td>\n",
       "      <td>1156000</td>\n",
       "      <td>Where Hope Grows</td>\n",
       "      <td>Danica McKellar|William Zabka|Kerr Smith|McKal...</td>\n",
       "      <td>http://wherehopegrowsmovie.com/</td>\n",
       "      <td>Chris Dowling</td>\n",
       "      <td>AN UNEXPECTED JOURNEY. AN UNEXPECTED FRIENDSHIP.</td>\n",
       "      <td>...</td>\n",
       "      <td>Calvin Campbell is a former professional baseb...</td>\n",
       "      <td>95</td>\n",
       "      <td>Drama</td>\n",
       "      <td>Godspeed Pictures</td>\n",
       "      <td>4/6/14</td>\n",
       "      <td>19</td>\n",
       "      <td>7.2</td>\n",
       "      <td>2014</td>\n",
       "      <td>0.000000e+00</td>\n",
       "      <td>1.064781e+06</td>\n",
       "    </tr>\n",
       "    <tr>\n",
       "      <th>883</th>\n",
       "      <td>256474</td>\n",
       "      <td>tt2101570</td>\n",
       "      <td>0.536511</td>\n",
       "      <td>10000000</td>\n",
       "      <td>0</td>\n",
       "      <td>In the Blood</td>\n",
       "      <td>Gina Carano|Cam Gigandet|Luis GuzmÃ¡n|Danny Tr...</td>\n",
       "      <td>NaN</td>\n",
       "      <td>John Stockwell</td>\n",
       "      <td>She Will Stop At Nothing</td>\n",
       "      <td>...</td>\n",
       "      <td>When her husband goes missing during their Car...</td>\n",
       "      <td>108</td>\n",
       "      <td>Action|Crime|Thriller</td>\n",
       "      <td>20th Century Fox Home Entertainment|Anchor Bay...</td>\n",
       "      <td>4/4/14</td>\n",
       "      <td>77</td>\n",
       "      <td>5.2</td>\n",
       "      <td>2014</td>\n",
       "      <td>9.210911e+06</td>\n",
       "      <td>0.000000e+00</td>\n",
       "    </tr>\n",
       "    <tr>\n",
       "      <th>8202</th>\n",
       "      <td>27526</td>\n",
       "      <td>tt0112744</td>\n",
       "      <td>0.286585</td>\n",
       "      <td>0</td>\n",
       "      <td>0</td>\n",
       "      <td>The Crossing Guard</td>\n",
       "      <td>Jack Nicholson|David Morse|Anjelica Huston|Rob...</td>\n",
       "      <td>NaN</td>\n",
       "      <td>Sean Penn</td>\n",
       "      <td>...some lives cross, others collide.</td>\n",
       "      <td>...</td>\n",
       "      <td>After his daughter died in a hit and run, Fred...</td>\n",
       "      <td>111</td>\n",
       "      <td>Drama|Thriller</td>\n",
       "      <td>Miramax Films</td>\n",
       "      <td>11/15/95</td>\n",
       "      <td>24</td>\n",
       "      <td>5.8</td>\n",
       "      <td>1995</td>\n",
       "      <td>0.000000e+00</td>\n",
       "      <td>0.000000e+00</td>\n",
       "    </tr>\n",
       "    <tr>\n",
       "      <th>5422</th>\n",
       "      <td>109445</td>\n",
       "      <td>tt2294629</td>\n",
       "      <td>6.112766</td>\n",
       "      <td>150000000</td>\n",
       "      <td>1274219009</td>\n",
       "      <td>Frozen</td>\n",
       "      <td>Kristen Bell|Idina Menzel|Jonathan Groff|Josh ...</td>\n",
       "      <td>http://movies.disney.com/frozen</td>\n",
       "      <td>Chris Buck|Jennifer Lee</td>\n",
       "      <td>Only the act of true love will thaw a frozen h...</td>\n",
       "      <td>...</td>\n",
       "      <td>Young princess Anna of Arendelle dreams about ...</td>\n",
       "      <td>102</td>\n",
       "      <td>Animation|Adventure|Family</td>\n",
       "      <td>Walt Disney Pictures|Walt Disney Animation Stu...</td>\n",
       "      <td>11/27/13</td>\n",
       "      <td>3369</td>\n",
       "      <td>7.5</td>\n",
       "      <td>2013</td>\n",
       "      <td>1.404050e+08</td>\n",
       "      <td>1.192711e+09</td>\n",
       "    </tr>\n",
       "    <tr>\n",
       "      <th>3891</th>\n",
       "      <td>98857</td>\n",
       "      <td>tt2115386</td>\n",
       "      <td>0.028803</td>\n",
       "      <td>0</td>\n",
       "      <td>0</td>\n",
       "      <td>Scrat's Continental Crack-Up: Part 2</td>\n",
       "      <td>Chris Wedge</td>\n",
       "      <td>NaN</td>\n",
       "      <td>Steve Martino|Mike Thurmeier</td>\n",
       "      <td>NaN</td>\n",
       "      <td>...</td>\n",
       "      <td>This short film continues the adventures of th...</td>\n",
       "      <td>3</td>\n",
       "      <td>Animation|Comedy|Adventure</td>\n",
       "      <td>Blue Sky Studios</td>\n",
       "      <td>11/16/11</td>\n",
       "      <td>11</td>\n",
       "      <td>6.7</td>\n",
       "      <td>2011</td>\n",
       "      <td>0.000000e+00</td>\n",
       "      <td>0.000000e+00</td>\n",
       "    </tr>\n",
       "    <tr>\n",
       "      <th>5177</th>\n",
       "      <td>5653</td>\n",
       "      <td>tt0309820</td>\n",
       "      <td>0.619899</td>\n",
       "      <td>0</td>\n",
       "      <td>0</td>\n",
       "      <td>Luther</td>\n",
       "      <td>Joseph Fiennes|Jonathan Firth|Claire Cox|Alfre...</td>\n",
       "      <td>http://www.lutherthemovie.com/</td>\n",
       "      <td>Eric Till</td>\n",
       "      <td>NaN</td>\n",
       "      <td>...</td>\n",
       "      <td>During the early 16th Century idealistic Germa...</td>\n",
       "      <td>123</td>\n",
       "      <td>Drama|History</td>\n",
       "      <td>Eikon Film</td>\n",
       "      <td>10/29/03</td>\n",
       "      <td>46</td>\n",
       "      <td>6.3</td>\n",
       "      <td>2003</td>\n",
       "      <td>0.000000e+00</td>\n",
       "      <td>0.000000e+00</td>\n",
       "    </tr>\n",
       "    <tr>\n",
       "      <th>5398</th>\n",
       "      <td>43274</td>\n",
       "      <td>tt0131620</td>\n",
       "      <td>0.170210</td>\n",
       "      <td>0</td>\n",
       "      <td>0</td>\n",
       "      <td>Tower of Terror</td>\n",
       "      <td>Steve Guttenberg|Kirsten Dunst|Nia Peeples|Mic...</td>\n",
       "      <td>NaN</td>\n",
       "      <td>D.J. MacHale</td>\n",
       "      <td>Hotel Guest Check In...But They Don't Check Out!</td>\n",
       "      <td>...</td>\n",
       "      <td>A disgraced reporter investigates an abandoned...</td>\n",
       "      <td>89</td>\n",
       "      <td>Thriller|Comedy|Family|Horror</td>\n",
       "      <td>Walt Disney Television</td>\n",
       "      <td>10/26/97</td>\n",
       "      <td>22</td>\n",
       "      <td>5.8</td>\n",
       "      <td>1997</td>\n",
       "      <td>0.000000e+00</td>\n",
       "      <td>0.000000e+00</td>\n",
       "    </tr>\n",
       "  </tbody>\n",
       "</table>\n",
       "<p>10 rows × 21 columns</p>\n",
       "</div>"
      ],
      "text/plain": [
       "          id    imdb_id  popularity     budget     revenue  \\\n",
       "1445   28211  tt1352824    1.145724   15000000     8459458   \n",
       "1000  299939  tt2769184    0.324403          0           0   \n",
       "4411   49529  tt0401729    1.588457  260000000   284139100   \n",
       "1089  243352  tt3200980    0.129935          0     1156000   \n",
       "883   256474  tt2101570    0.536511   10000000           0   \n",
       "8202   27526  tt0112744    0.286585          0           0   \n",
       "5422  109445  tt2294629    6.112766  150000000  1274219009   \n",
       "3891   98857  tt2115386    0.028803          0           0   \n",
       "5177    5653  tt0309820    0.619899          0           0   \n",
       "5398   43274  tt0131620    0.170210          0           0   \n",
       "\n",
       "                            original_title  \\\n",
       "1445                                 Chloe   \n",
       "1000                                 Debug   \n",
       "4411                           John Carter   \n",
       "1089                      Where Hope Grows   \n",
       "883                           In the Blood   \n",
       "8202                    The Crossing Guard   \n",
       "5422                                Frozen   \n",
       "3891  Scrat's Continental Crack-Up: Part 2   \n",
       "5177                                Luther   \n",
       "5398                       Tower of Terror   \n",
       "\n",
       "                                                   cast  \\\n",
       "1445  Julianne Moore|Liam Neeson|Amanda Seyfried|Max...   \n",
       "1000  Jeananne Goossen|Adrian Holmes|Adam Butcher|Ja...   \n",
       "4411  Taylor Kitsch|Lynn Collins|Mark Strong|Willem ...   \n",
       "1089  Danica McKellar|William Zabka|Kerr Smith|McKal...   \n",
       "883   Gina Carano|Cam Gigandet|Luis GuzmÃ¡n|Danny Tr...   \n",
       "8202  Jack Nicholson|David Morse|Anjelica Huston|Rob...   \n",
       "5422  Kristen Bell|Idina Menzel|Jonathan Groff|Josh ...   \n",
       "3891                                        Chris Wedge   \n",
       "5177  Joseph Fiennes|Jonathan Firth|Claire Cox|Alfre...   \n",
       "5398  Steve Guttenberg|Kirsten Dunst|Nia Peeples|Mic...   \n",
       "\n",
       "                              homepage                      director  \\\n",
       "1445                               NaN                   Atom Egoyan   \n",
       "1000                               NaN                 David Hewlett   \n",
       "4411  http://disney.go.com/johncarter/                Andrew Stanton   \n",
       "1089   http://wherehopegrowsmovie.com/                 Chris Dowling   \n",
       "883                                NaN                John Stockwell   \n",
       "8202                               NaN                     Sean Penn   \n",
       "5422   http://movies.disney.com/frozen       Chris Buck|Jennifer Lee   \n",
       "3891                               NaN  Steve Martino|Mike Thurmeier   \n",
       "5177    http://www.lutherthemovie.com/                     Eric Till   \n",
       "5398                               NaN                  D.J. MacHale   \n",
       "\n",
       "                                                tagline  ...  \\\n",
       "1445  If the one you love was lying to you, how far ...  ...   \n",
       "1000                             Evil can't be deleted.  ...   \n",
       "4411               Lost in Our World. Found in Another.  ...   \n",
       "1089   AN UNEXPECTED JOURNEY. AN UNEXPECTED FRIENDSHIP.  ...   \n",
       "883                            She Will Stop At Nothing  ...   \n",
       "8202               ...some lives cross, others collide.  ...   \n",
       "5422  Only the act of true love will thaw a frozen h...  ...   \n",
       "3891                                                NaN  ...   \n",
       "5177                                                NaN  ...   \n",
       "5398   Hotel Guest Check In...But They Don't Check Out!  ...   \n",
       "\n",
       "                                               overview runtime  \\\n",
       "1445  A doctor hires an escort to seduce her husband...      96   \n",
       "1000  Six young computer hackers sent to work on a d...      86   \n",
       "4411  Civil War vet John Carter is transplanted to M...     132   \n",
       "1089  Calvin Campbell is a former professional baseb...      95   \n",
       "883   When her husband goes missing during their Car...     108   \n",
       "8202  After his daughter died in a hit and run, Fred...     111   \n",
       "5422  Young princess Anna of Arendelle dreams about ...     102   \n",
       "3891  This short film continues the adventures of th...       3   \n",
       "5177  During the early 16th Century idealistic Germa...     123   \n",
       "5398  A disgraced reporter investigates an abandoned...      89   \n",
       "\n",
       "                                        genres  \\\n",
       "1445                    Drama|Thriller|Mystery   \n",
       "1000                    Horror|Science Fiction   \n",
       "4411  Action|Adventure|Fantasy|Science Fiction   \n",
       "1089                                     Drama   \n",
       "883                      Action|Crime|Thriller   \n",
       "8202                            Drama|Thriller   \n",
       "5422                Animation|Adventure|Family   \n",
       "3891                Animation|Comedy|Adventure   \n",
       "5177                             Drama|History   \n",
       "5398             Thriller|Comedy|Family|Horror   \n",
       "\n",
       "                                   production_companies release_date  \\\n",
       "1445  StudioCanal|Montecito Picture Company, The|Out...      3/25/09   \n",
       "1000        Copperheart Entertainment|Monkeys & Parrots      11/3/14   \n",
       "4411                               Walt Disney Pictures       3/7/12   \n",
       "1089                                  Godspeed Pictures       4/6/14   \n",
       "883   20th Century Fox Home Entertainment|Anchor Bay...       4/4/14   \n",
       "8202                                      Miramax Films     11/15/95   \n",
       "5422  Walt Disney Pictures|Walt Disney Animation Stu...     11/27/13   \n",
       "3891                                   Blue Sky Studios     11/16/11   \n",
       "5177                                         Eikon Film     10/29/03   \n",
       "5398                             Walt Disney Television     10/26/97   \n",
       "\n",
       "     vote_count  vote_average  release_year    budget_adj   revenue_adj  \n",
       "1445        297           5.9          2009  1.524601e+07  8.598197e+06  \n",
       "1000         24           4.0          2014  0.000000e+00  0.000000e+00  \n",
       "4411       1479           6.0          2012  2.469335e+08  2.698595e+08  \n",
       "1089         19           7.2          2014  0.000000e+00  1.064781e+06  \n",
       "883          77           5.2          2014  9.210911e+06  0.000000e+00  \n",
       "8202         24           5.8          1995  0.000000e+00  0.000000e+00  \n",
       "5422       3369           7.5          2013  1.404050e+08  1.192711e+09  \n",
       "3891         11           6.7          2011  0.000000e+00  0.000000e+00  \n",
       "5177         46           6.3          2003  0.000000e+00  0.000000e+00  \n",
       "5398         22           5.8          1997  0.000000e+00  0.000000e+00  \n",
       "\n",
       "[10 rows x 21 columns]"
      ]
     },
     "execution_count": 101,
     "metadata": {},
     "output_type": "execute_result"
    }
   ],
   "source": [
    "data_frame.sample(10)"
   ]
  },
  {
   "cell_type": "code",
   "execution_count": 102,
   "metadata": {},
   "outputs": [
    {
     "data": {
      "text/plain": [
       "(10866, 21)"
      ]
     },
     "execution_count": 102,
     "metadata": {},
     "output_type": "execute_result"
    }
   ],
   "source": [
    "data_frame.shape"
   ]
  },
  {
   "cell_type": "markdown",
   "metadata": {},
   "source": [
    "### Accessing Data"
   ]
  },
  {
   "cell_type": "code",
   "execution_count": 103,
   "metadata": {},
   "outputs": [
    {
     "name": "stdout",
     "output_type": "stream",
     "text": [
      "0 id\n",
      "1 imdb_id\n",
      "2 popularity\n",
      "3 budget\n",
      "4 revenue\n",
      "5 original_title\n",
      "6 cast\n",
      "7 homepage\n",
      "8 director\n",
      "9 tagline\n",
      "10 keywords\n",
      "11 overview\n",
      "12 runtime\n",
      "13 genres\n",
      "14 production_companies\n",
      "15 release_date\n",
      "16 vote_count\n",
      "17 vote_average\n",
      "18 release_year\n",
      "19 budget_adj\n",
      "20 revenue_adj\n"
     ]
    }
   ],
   "source": [
    "for i,j in enumerate(data_frame):\n",
    "    print(i,j)#index of each columns"
   ]
  },
  {
   "cell_type": "code",
   "execution_count": 104,
   "metadata": {},
   "outputs": [
    {
     "name": "stdout",
     "output_type": "stream",
     "text": [
      "<class 'pandas.core.frame.DataFrame'>\n",
      "RangeIndex: 10866 entries, 0 to 10865\n",
      "Data columns (total 21 columns):\n",
      " #   Column                Non-Null Count  Dtype  \n",
      "---  ------                --------------  -----  \n",
      " 0   id                    10866 non-null  int64  \n",
      " 1   imdb_id               10856 non-null  object \n",
      " 2   popularity            10866 non-null  float64\n",
      " 3   budget                10866 non-null  int64  \n",
      " 4   revenue               10866 non-null  int64  \n",
      " 5   original_title        10866 non-null  object \n",
      " 6   cast                  10790 non-null  object \n",
      " 7   homepage              2936 non-null   object \n",
      " 8   director              10822 non-null  object \n",
      " 9   tagline               8042 non-null   object \n",
      " 10  keywords              9373 non-null   object \n",
      " 11  overview              10862 non-null  object \n",
      " 12  runtime               10866 non-null  int64  \n",
      " 13  genres                10843 non-null  object \n",
      " 14  production_companies  9836 non-null   object \n",
      " 15  release_date          10866 non-null  object \n",
      " 16  vote_count            10866 non-null  int64  \n",
      " 17  vote_average          10866 non-null  float64\n",
      " 18  release_year          10866 non-null  int64  \n",
      " 19  budget_adj            10866 non-null  float64\n",
      " 20  revenue_adj           10866 non-null  float64\n",
      "dtypes: float64(4), int64(6), object(11)\n",
      "memory usage: 1.3+ MB\n"
     ]
    }
   ],
   "source": [
    "data_frame.info()"
   ]
  },
  {
   "cell_type": "code",
   "execution_count": 105,
   "metadata": {},
   "outputs": [
    {
     "data": {
      "text/plain": [
       "id                         0\n",
       "imdb_id                   10\n",
       "popularity                 0\n",
       "budget                     0\n",
       "revenue                    0\n",
       "original_title             0\n",
       "cast                      76\n",
       "homepage                7930\n",
       "director                  44\n",
       "tagline                 2824\n",
       "keywords                1493\n",
       "overview                   4\n",
       "runtime                    0\n",
       "genres                    23\n",
       "production_companies    1030\n",
       "release_date               0\n",
       "vote_count                 0\n",
       "vote_average               0\n",
       "release_year               0\n",
       "budget_adj                 0\n",
       "revenue_adj                0\n",
       "dtype: int64"
      ]
     },
     "execution_count": 105,
     "metadata": {},
     "output_type": "execute_result"
    }
   ],
   "source": [
    "data_frame.isnull().sum()"
   ]
  },
  {
   "cell_type": "code",
   "execution_count": 106,
   "metadata": {},
   "outputs": [
    {
     "data": {
      "text/plain": [
       "1"
      ]
     },
     "execution_count": 106,
     "metadata": {},
     "output_type": "execute_result"
    }
   ],
   "source": [
    "data_frame.duplicated().sum()"
   ]
  },
  {
   "cell_type": "code",
   "execution_count": 107,
   "metadata": {},
   "outputs": [
    {
     "data": {
      "text/plain": [
       "0        Action|Adventure|Science Fiction|Thriller\n",
       "1        Action|Adventure|Science Fiction|Thriller\n",
       "2               Adventure|Science Fiction|Thriller\n",
       "3         Action|Adventure|Science Fiction|Fantasy\n",
       "4                            Action|Crime|Thriller\n",
       "                           ...                    \n",
       "10861                                  Documentary\n",
       "10862                       Action|Adventure|Drama\n",
       "10863                               Mystery|Comedy\n",
       "10864                                Action|Comedy\n",
       "10865                                       Horror\n",
       "Name: genres, Length: 10866, dtype: object"
      ]
     },
     "execution_count": 107,
     "metadata": {},
     "output_type": "execute_result"
    }
   ],
   "source": [
    "data_frame.genres"
   ]
  },
  {
   "cell_type": "markdown",
   "metadata": {},
   "source": [
    "### Quality issues\n",
    "1.wrong data type for release date\n",
    "\n",
    "2.Duplicated value present\n",
    "\n",
    "3.Null values in production_companies, genres, cast, homepage, director, tagline, keywords, overview and imdb_id  \n",
    "\n",
    "4.some values in revenue and budget columns is zero\n"
   ]
  },
  {
   "cell_type": "markdown",
   "metadata": {},
   "source": [
    "\n",
    "### Data Cleaning\n"
   ]
  },
  {
   "cell_type": "code",
   "execution_count": 108,
   "metadata": {},
   "outputs": [],
   "source": [
    "#making copy of the original data\n",
    "data = data_frame.copy()"
   ]
  },
  {
   "cell_type": "code",
   "execution_count": 109,
   "metadata": {},
   "outputs": [],
   "source": [
    "#dropping null valuues\n",
    "data_frame.dropna(inplace=True)"
   ]
  },
  {
   "cell_type": "code",
   "execution_count": 110,
   "metadata": {},
   "outputs": [],
   "source": [
    "data_frame.drop_duplicates(inplace=True)#dropping duplicates"
   ]
  },
  {
   "cell_type": "code",
   "execution_count": 111,
   "metadata": {},
   "outputs": [],
   "source": [
    "#droping all entries with 0 as input\n",
    "data_frame = data_frame[(data_frame != 0).all(1)]"
   ]
  },
  {
   "cell_type": "code",
   "execution_count": 112,
   "metadata": {},
   "outputs": [],
   "source": [
    "#converting release date column to date time \n",
    "data_frame['release_date'] = pd.to_datetime(data_frame['release_date'])"
   ]
  },
  {
   "cell_type": "code",
   "execution_count": 113,
   "metadata": {},
   "outputs": [],
   "source": [
    "#since i won't be using some of these columns, i'll just drop them.\n",
    "data_frame.drop(['homepage', 'tagline', 'keywords'], axis=1, inplace=True)"
   ]
  },
  {
   "cell_type": "markdown",
   "metadata": {},
   "source": [
    "#### Test"
   ]
  },
  {
   "cell_type": "code",
   "execution_count": 114,
   "metadata": {},
   "outputs": [
    {
     "data": {
      "text/html": [
       "<div>\n",
       "<style scoped>\n",
       "    .dataframe tbody tr th:only-of-type {\n",
       "        vertical-align: middle;\n",
       "    }\n",
       "\n",
       "    .dataframe tbody tr th {\n",
       "        vertical-align: top;\n",
       "    }\n",
       "\n",
       "    .dataframe thead th {\n",
       "        text-align: right;\n",
       "    }\n",
       "</style>\n",
       "<table border=\"1\" class=\"dataframe\">\n",
       "  <thead>\n",
       "    <tr style=\"text-align: right;\">\n",
       "      <th></th>\n",
       "      <th>id</th>\n",
       "      <th>imdb_id</th>\n",
       "      <th>popularity</th>\n",
       "      <th>budget</th>\n",
       "      <th>revenue</th>\n",
       "      <th>original_title</th>\n",
       "      <th>cast</th>\n",
       "      <th>director</th>\n",
       "      <th>overview</th>\n",
       "      <th>runtime</th>\n",
       "      <th>genres</th>\n",
       "      <th>production_companies</th>\n",
       "      <th>release_date</th>\n",
       "      <th>vote_count</th>\n",
       "      <th>vote_average</th>\n",
       "      <th>release_year</th>\n",
       "      <th>budget_adj</th>\n",
       "      <th>revenue_adj</th>\n",
       "    </tr>\n",
       "  </thead>\n",
       "  <tbody>\n",
       "    <tr>\n",
       "      <th>4460</th>\n",
       "      <td>86838</td>\n",
       "      <td>tt1931533</td>\n",
       "      <td>0.958518</td>\n",
       "      <td>15000000</td>\n",
       "      <td>19422261</td>\n",
       "      <td>Seven Psychopaths</td>\n",
       "      <td>Colin Farrell|Sam Rockwell|Christopher Walken|...</td>\n",
       "      <td>Martin McDonagh</td>\n",
       "      <td>A struggling screenwriter inadvertently become...</td>\n",
       "      <td>110</td>\n",
       "      <td>Comedy|Crime|Thriller</td>\n",
       "      <td>Blueprint Pictures|CBS Films|British Film Inst...</td>\n",
       "      <td>2012-09-07</td>\n",
       "      <td>773</td>\n",
       "      <td>6.6</td>\n",
       "      <td>2012</td>\n",
       "      <td>1.424616e+07</td>\n",
       "      <td>1.844618e+07</td>\n",
       "    </tr>\n",
       "  </tbody>\n",
       "</table>\n",
       "</div>"
      ],
      "text/plain": [
       "         id    imdb_id  popularity    budget   revenue     original_title  \\\n",
       "4460  86838  tt1931533    0.958518  15000000  19422261  Seven Psychopaths   \n",
       "\n",
       "                                                   cast         director  \\\n",
       "4460  Colin Farrell|Sam Rockwell|Christopher Walken|...  Martin McDonagh   \n",
       "\n",
       "                                               overview  runtime  \\\n",
       "4460  A struggling screenwriter inadvertently become...      110   \n",
       "\n",
       "                     genres  \\\n",
       "4460  Comedy|Crime|Thriller   \n",
       "\n",
       "                                   production_companies release_date  \\\n",
       "4460  Blueprint Pictures|CBS Films|British Film Inst...   2012-09-07   \n",
       "\n",
       "      vote_count  vote_average  release_year    budget_adj   revenue_adj  \n",
       "4460         773           6.6          2012  1.424616e+07  1.844618e+07  "
      ]
     },
     "execution_count": 114,
     "metadata": {},
     "output_type": "execute_result"
    }
   ],
   "source": [
    "data_frame.sample()"
   ]
  },
  {
   "cell_type": "code",
   "execution_count": 115,
   "metadata": {},
   "outputs": [
    {
     "name": "stdout",
     "output_type": "stream",
     "text": [
      "0\n"
     ]
    }
   ],
   "source": [
    "#checking if any 0 is in data_frame\n",
    "count = 0\n",
    "for i in data_frame.revenue:\n",
    "    if i == 0:\n",
    "        count += 1\n",
    "print(count)\n"
   ]
  },
  {
   "cell_type": "code",
   "execution_count": 116,
   "metadata": {},
   "outputs": [
    {
     "data": {
      "text/plain": [
       "Index(['id', 'imdb_id', 'popularity', 'budget', 'revenue', 'original_title',\n",
       "       'cast', 'director', 'overview', 'runtime', 'genres',\n",
       "       'production_companies', 'release_date', 'vote_count', 'vote_average',\n",
       "       'release_year', 'budget_adj', 'revenue_adj'],\n",
       "      dtype='object')"
      ]
     },
     "execution_count": 116,
     "metadata": {},
     "output_type": "execute_result"
    }
   ],
   "source": [
    "#checking dropped columns\n",
    "data_frame.columns"
   ]
  },
  {
   "cell_type": "code",
   "execution_count": 117,
   "metadata": {},
   "outputs": [],
   "source": [
    "b = ('homepage', 'tagline', 'keywords')\n",
    "assert b not in data_frame.columns"
   ]
  },
  {
   "cell_type": "code",
   "execution_count": 118,
   "metadata": {},
   "outputs": [
    {
     "data": {
      "text/plain": [
       "0"
      ]
     },
     "execution_count": 118,
     "metadata": {},
     "output_type": "execute_result"
    }
   ],
   "source": [
    "#checking duplicated values\n",
    "data_frame.duplicated().sum()"
   ]
  },
  {
   "cell_type": "code",
   "execution_count": 119,
   "metadata": {},
   "outputs": [
    {
     "data": {
      "text/plain": [
       "id                      0\n",
       "imdb_id                 0\n",
       "popularity              0\n",
       "budget                  0\n",
       "revenue                 0\n",
       "original_title          0\n",
       "cast                    0\n",
       "director                0\n",
       "overview                0\n",
       "runtime                 0\n",
       "genres                  0\n",
       "production_companies    0\n",
       "release_date            0\n",
       "vote_count              0\n",
       "vote_average            0\n",
       "release_year            0\n",
       "budget_adj              0\n",
       "revenue_adj             0\n",
       "dtype: int64"
      ]
     },
     "execution_count": 119,
     "metadata": {},
     "output_type": "execute_result"
    }
   ],
   "source": [
    "#checking for null values\n",
    "data_frame.isnull().sum()"
   ]
  },
  {
   "cell_type": "code",
   "execution_count": 120,
   "metadata": {},
   "outputs": [
    {
     "data": {
      "text/plain": [
       "(1287, 18)"
      ]
     },
     "execution_count": 120,
     "metadata": {},
     "output_type": "execute_result"
    }
   ],
   "source": [
    "data_frame.shape"
   ]
  },
  {
   "cell_type": "markdown",
   "metadata": {},
   "source": [
    "### Storing Data\n",
    "Saving gathered, assessed, and cleaned master dataset to a CSV file named \"tmdb-movies-clean.csv\"."
   ]
  },
  {
   "cell_type": "code",
   "execution_count": 121,
   "metadata": {},
   "outputs": [],
   "source": [
    "data_frame.to_csv(\"TMDB-movies-clean.csv\", index=False)"
   ]
  },
  {
   "cell_type": "code",
   "execution_count": 3,
   "metadata": {},
   "outputs": [],
   "source": [
    "df = pd.read_csv('TMDB-movies-clean.csv')"
   ]
  },
  {
   "cell_type": "markdown",
   "metadata": {},
   "source": [
    "<a id='eda'></a>\n",
    "## Exploratory Data Analysis\n",
    "\n",
    "\n",
    "#### What kinds of properties are associated with movies that have high revenues?\n",
    "\n",
    "> dependant variable here is revenue\n",
    " "
   ]
  },
  {
   "cell_type": "markdown",
   "metadata": {},
   "source": [
    "##### is vote count associated with high revenu?"
   ]
  },
  {
   "cell_type": "code",
   "execution_count": 123,
   "metadata": {},
   "outputs": [
    {
     "data": {
      "text/plain": [
       "count    1287.000000\n",
       "mean      947.266511\n",
       "std      1255.476215\n",
       "min        10.000000\n",
       "25%       179.000000\n",
       "50%       439.000000\n",
       "75%      1173.000000\n",
       "max      9767.000000\n",
       "Name: vote_count, dtype: float64"
      ]
     },
     "execution_count": 123,
     "metadata": {},
     "output_type": "execute_result"
    }
   ],
   "source": [
    "df.describe().vote_count"
   ]
  },
  {
   "cell_type": "code",
   "execution_count": 5,
   "metadata": {},
   "outputs": [],
   "source": [
    "#creating a bin edge value and name for a new column\n",
    "vals = [10, 179, 439, 1173, 9767]\n",
    "val_names = ['poor', 'moderate', 'mod_high', 'high']"
   ]
  },
  {
   "cell_type": "code",
   "execution_count": 6,
   "metadata": {},
   "outputs": [],
   "source": [
    "#creating new column\n",
    "df['vote_levels'] = pd.cut(df['vote_count'], vals, labels=val_names)"
   ]
  },
  {
   "cell_type": "code",
   "execution_count": 126,
   "metadata": {},
   "outputs": [
    {
     "data": {
      "text/html": [
       "<div>\n",
       "<style scoped>\n",
       "    .dataframe tbody tr th:only-of-type {\n",
       "        vertical-align: middle;\n",
       "    }\n",
       "\n",
       "    .dataframe tbody tr th {\n",
       "        vertical-align: top;\n",
       "    }\n",
       "\n",
       "    .dataframe thead th {\n",
       "        text-align: right;\n",
       "    }\n",
       "</style>\n",
       "<table border=\"1\" class=\"dataframe\">\n",
       "  <thead>\n",
       "    <tr style=\"text-align: right;\">\n",
       "      <th></th>\n",
       "      <th>id</th>\n",
       "      <th>imdb_id</th>\n",
       "      <th>popularity</th>\n",
       "      <th>budget</th>\n",
       "      <th>revenue</th>\n",
       "      <th>original_title</th>\n",
       "      <th>cast</th>\n",
       "      <th>director</th>\n",
       "      <th>overview</th>\n",
       "      <th>runtime</th>\n",
       "      <th>genres</th>\n",
       "      <th>production_companies</th>\n",
       "      <th>release_date</th>\n",
       "      <th>vote_count</th>\n",
       "      <th>vote_average</th>\n",
       "      <th>release_year</th>\n",
       "      <th>budget_adj</th>\n",
       "      <th>revenue_adj</th>\n",
       "      <th>vote_levels</th>\n",
       "    </tr>\n",
       "  </thead>\n",
       "  <tbody>\n",
       "    <tr>\n",
       "      <th>0</th>\n",
       "      <td>135397</td>\n",
       "      <td>tt0369610</td>\n",
       "      <td>32.985763</td>\n",
       "      <td>150000000</td>\n",
       "      <td>1513528810</td>\n",
       "      <td>Jurassic World</td>\n",
       "      <td>Chris Pratt|Bryce Dallas Howard|Irrfan Khan|Vi...</td>\n",
       "      <td>Colin Trevorrow</td>\n",
       "      <td>Twenty-two years after the events of Jurassic ...</td>\n",
       "      <td>124</td>\n",
       "      <td>Action|Adventure|Science Fiction|Thriller</td>\n",
       "      <td>Universal Studios|Amblin Entertainment|Legenda...</td>\n",
       "      <td>2015-06-09</td>\n",
       "      <td>5562</td>\n",
       "      <td>6.5</td>\n",
       "      <td>2015</td>\n",
       "      <td>1.379999e+08</td>\n",
       "      <td>1.392446e+09</td>\n",
       "      <td>high</td>\n",
       "    </tr>\n",
       "    <tr>\n",
       "      <th>1</th>\n",
       "      <td>76341</td>\n",
       "      <td>tt1392190</td>\n",
       "      <td>28.419936</td>\n",
       "      <td>150000000</td>\n",
       "      <td>378436354</td>\n",
       "      <td>Mad Max: Fury Road</td>\n",
       "      <td>Tom Hardy|Charlize Theron|Hugh Keays-Byrne|Nic...</td>\n",
       "      <td>George Miller</td>\n",
       "      <td>An apocalyptic story set in the furthest reach...</td>\n",
       "      <td>120</td>\n",
       "      <td>Action|Adventure|Science Fiction|Thriller</td>\n",
       "      <td>Village Roadshow Pictures|Kennedy Miller Produ...</td>\n",
       "      <td>2015-05-13</td>\n",
       "      <td>6185</td>\n",
       "      <td>7.1</td>\n",
       "      <td>2015</td>\n",
       "      <td>1.379999e+08</td>\n",
       "      <td>3.481613e+08</td>\n",
       "      <td>high</td>\n",
       "    </tr>\n",
       "  </tbody>\n",
       "</table>\n",
       "</div>"
      ],
      "text/plain": [
       "       id    imdb_id  popularity     budget     revenue      original_title  \\\n",
       "0  135397  tt0369610   32.985763  150000000  1513528810      Jurassic World   \n",
       "1   76341  tt1392190   28.419936  150000000   378436354  Mad Max: Fury Road   \n",
       "\n",
       "                                                cast         director  \\\n",
       "0  Chris Pratt|Bryce Dallas Howard|Irrfan Khan|Vi...  Colin Trevorrow   \n",
       "1  Tom Hardy|Charlize Theron|Hugh Keays-Byrne|Nic...    George Miller   \n",
       "\n",
       "                                            overview  runtime  \\\n",
       "0  Twenty-two years after the events of Jurassic ...      124   \n",
       "1  An apocalyptic story set in the furthest reach...      120   \n",
       "\n",
       "                                      genres  \\\n",
       "0  Action|Adventure|Science Fiction|Thriller   \n",
       "1  Action|Adventure|Science Fiction|Thriller   \n",
       "\n",
       "                                production_companies release_date  vote_count  \\\n",
       "0  Universal Studios|Amblin Entertainment|Legenda...   2015-06-09        5562   \n",
       "1  Village Roadshow Pictures|Kennedy Miller Produ...   2015-05-13        6185   \n",
       "\n",
       "   vote_average  release_year    budget_adj   revenue_adj vote_levels  \n",
       "0           6.5          2015  1.379999e+08  1.392446e+09        high  \n",
       "1           7.1          2015  1.379999e+08  3.481613e+08        high  "
      ]
     },
     "execution_count": 126,
     "metadata": {},
     "output_type": "execute_result"
    }
   ],
   "source": [
    "df.head(2)"
   ]
  },
  {
   "cell_type": "code",
   "execution_count": 127,
   "metadata": {},
   "outputs": [
    {
     "data": {
      "text/plain": [
       "vote_levels\n",
       "poor        2.529717e+07\n",
       "moderate    7.326995e+07\n",
       "mod_high    1.477218e+08\n",
       "high        4.588060e+08\n",
       "Name: revenue, dtype: float64"
      ]
     },
     "execution_count": 127,
     "metadata": {},
     "output_type": "execute_result"
    }
   ],
   "source": [
    "df.groupby('vote_levels').mean().revenue"
   ]
  },
  {
   "cell_type": "code",
   "execution_count": 128,
   "metadata": {},
   "outputs": [
    {
     "data": {
      "text/plain": [
       "vote_levels\n",
       "poor        2.850896e+07\n",
       "moderate    9.746905e+07\n",
       "mod_high    1.682744e+08\n",
       "high        5.026439e+08\n",
       "Name: revenue_adj, dtype: float64"
      ]
     },
     "execution_count": 128,
     "metadata": {},
     "output_type": "execute_result"
    }
   ],
   "source": [
    "#for 2010 inflation rate\n",
    "df.groupby('vote_levels').mean().revenue_adj"
   ]
  },
  {
   "cell_type": "code",
   "execution_count": 129,
   "metadata": {},
   "outputs": [
    {
     "data": {
      "text/plain": [
       "vote_levels\n",
       "poor        0.549302\n",
       "moderate    1.021225\n",
       "mod_high    1.593226\n",
       "high        3.981535\n",
       "Name: popularity, dtype: float64"
      ]
     },
     "execution_count": 129,
     "metadata": {},
     "output_type": "execute_result"
    }
   ],
   "source": [
    "#does high vote count mean high popularity of a movie?\n",
    "df.groupby('vote_levels').mean().popularity"
   ]
  },
  {
   "cell_type": "code",
   "execution_count": 130,
   "metadata": {},
   "outputs": [
    {
     "data": {
      "text/plain": [
       "budget     5.200349e+07\n",
       "revenue    1.762444e+08\n",
       "dtype: float64"
      ]
     },
     "execution_count": 130,
     "metadata": {},
     "output_type": "execute_result"
    }
   ],
   "source": [
    "#is their is correlation between budget and revenue?\n",
    "df[['budget', 'revenue']].mean()"
   ]
  },
  {
   "cell_type": "code",
   "execution_count": 131,
   "metadata": {},
   "outputs": [
    {
     "data": {
      "text/plain": [
       "budget_adj     5.462994e+07\n",
       "revenue_adj    1.991775e+08\n",
       "dtype: float64"
      ]
     },
     "execution_count": 131,
     "metadata": {},
     "output_type": "execute_result"
    }
   ],
   "source": [
    "df[['budget_adj', 'revenue_adj']].mean()"
   ]
  },
  {
   "cell_type": "markdown",
   "metadata": {},
   "source": [
    "### Which genres are most popular from year to year?"
   ]
  },
  {
   "cell_type": "markdown",
   "metadata": {},
   "source": [
    "dependant variable here is genre"
   ]
  },
  {
   "cell_type": "code",
   "execution_count": 43,
   "metadata": {},
   "outputs": [
    {
     "name": "stdout",
     "output_type": "stream",
     "text": [
      "0.010335\n",
      "1.152354\n",
      "32.985763\n"
     ]
    }
   ],
   "source": [
    "print(df['popularity'].min())\n",
    "print(df['popularity'].median())\n",
    "print(df['popularity'].max())"
   ]
  },
  {
   "cell_type": "code",
   "execution_count": 49,
   "metadata": {},
   "outputs": [],
   "source": [
    "#selecting popularity greater than or equal to 15 which is almost at the highest level\n",
    "bf = df.query('popularity >= 12')"
   ]
  },
  {
   "cell_type": "code",
   "execution_count": 50,
   "metadata": {},
   "outputs": [
    {
     "data": {
      "text/html": [
       "<div>\n",
       "<style scoped>\n",
       "    .dataframe tbody tr th:only-of-type {\n",
       "        vertical-align: middle;\n",
       "    }\n",
       "\n",
       "    .dataframe tbody tr th {\n",
       "        vertical-align: top;\n",
       "    }\n",
       "\n",
       "    .dataframe thead th {\n",
       "        text-align: right;\n",
       "    }\n",
       "</style>\n",
       "<table border=\"1\" class=\"dataframe\">\n",
       "  <thead>\n",
       "    <tr style=\"text-align: right;\">\n",
       "      <th></th>\n",
       "      <th>genres</th>\n",
       "      <th>release_year</th>\n",
       "    </tr>\n",
       "  </thead>\n",
       "  <tbody>\n",
       "    <tr>\n",
       "      <th>0</th>\n",
       "      <td>Action|Adventure|Science Fiction|Thriller</td>\n",
       "      <td>2015</td>\n",
       "    </tr>\n",
       "    <tr>\n",
       "      <th>1</th>\n",
       "      <td>Action|Adventure|Science Fiction|Thriller</td>\n",
       "      <td>2015</td>\n",
       "    </tr>\n",
       "    <tr>\n",
       "      <th>2</th>\n",
       "      <td>Adventure|Science Fiction|Thriller</td>\n",
       "      <td>2015</td>\n",
       "    </tr>\n",
       "    <tr>\n",
       "      <th>93</th>\n",
       "      <td>Adventure|Drama|Science Fiction</td>\n",
       "      <td>2014</td>\n",
       "    </tr>\n",
       "    <tr>\n",
       "      <th>94</th>\n",
       "      <td>Action|Science Fiction|Adventure</td>\n",
       "      <td>2014</td>\n",
       "    </tr>\n",
       "    <tr>\n",
       "      <th>95</th>\n",
       "      <td>Action|Adventure|Science Fiction</td>\n",
       "      <td>2014</td>\n",
       "    </tr>\n",
       "    <tr>\n",
       "      <th>163</th>\n",
       "      <td>Adventure|Action|Science Fiction</td>\n",
       "      <td>1977</td>\n",
       "    </tr>\n",
       "  </tbody>\n",
       "</table>\n",
       "</div>"
      ],
      "text/plain": [
       "                                        genres  release_year\n",
       "0    Action|Adventure|Science Fiction|Thriller          2015\n",
       "1    Action|Adventure|Science Fiction|Thriller          2015\n",
       "2           Adventure|Science Fiction|Thriller          2015\n",
       "93             Adventure|Drama|Science Fiction          2014\n",
       "94            Action|Science Fiction|Adventure          2014\n",
       "95            Action|Adventure|Science Fiction          2014\n",
       "163           Adventure|Action|Science Fiction          1977"
      ]
     },
     "execution_count": 50,
     "metadata": {},
     "output_type": "execute_result"
    }
   ],
   "source": [
    "\n",
    "bf[['genres', 'release_year']]"
   ]
  },
  {
   "cell_type": "code",
   "execution_count": 135,
   "metadata": {},
   "outputs": [
    {
     "data": {
      "text/html": [
       "<div>\n",
       "<style scoped>\n",
       "    .dataframe tbody tr th:only-of-type {\n",
       "        vertical-align: middle;\n",
       "    }\n",
       "\n",
       "    .dataframe tbody tr th {\n",
       "        vertical-align: top;\n",
       "    }\n",
       "\n",
       "    .dataframe thead th {\n",
       "        text-align: right;\n",
       "    }\n",
       "</style>\n",
       "<table border=\"1\" class=\"dataframe\">\n",
       "  <thead>\n",
       "    <tr style=\"text-align: right;\">\n",
       "      <th></th>\n",
       "      <th>genres</th>\n",
       "      <th>release_year</th>\n",
       "      <th>popularity</th>\n",
       "      <th>original_title</th>\n",
       "      <th>revenue</th>\n",
       "      <th>budget</th>\n",
       "    </tr>\n",
       "  </thead>\n",
       "  <tbody>\n",
       "    <tr>\n",
       "      <th>0</th>\n",
       "      <td>Action|Adventure|Science Fiction|Thriller</td>\n",
       "      <td>2015</td>\n",
       "      <td>32.985763</td>\n",
       "      <td>Jurassic World</td>\n",
       "      <td>1513528810</td>\n",
       "      <td>150000000</td>\n",
       "    </tr>\n",
       "    <tr>\n",
       "      <th>1</th>\n",
       "      <td>Action|Adventure|Science Fiction|Thriller</td>\n",
       "      <td>2015</td>\n",
       "      <td>28.419936</td>\n",
       "      <td>Mad Max: Fury Road</td>\n",
       "      <td>378436354</td>\n",
       "      <td>150000000</td>\n",
       "    </tr>\n",
       "    <tr>\n",
       "      <th>2</th>\n",
       "      <td>Adventure|Science Fiction|Thriller</td>\n",
       "      <td>2015</td>\n",
       "      <td>13.112507</td>\n",
       "      <td>Insurgent</td>\n",
       "      <td>295238201</td>\n",
       "      <td>110000000</td>\n",
       "    </tr>\n",
       "    <tr>\n",
       "      <th>3</th>\n",
       "      <td>Action|Adventure|Science Fiction|Fantasy</td>\n",
       "      <td>2015</td>\n",
       "      <td>11.173104</td>\n",
       "      <td>Star Wars: The Force Awakens</td>\n",
       "      <td>2068178225</td>\n",
       "      <td>200000000</td>\n",
       "    </tr>\n",
       "    <tr>\n",
       "      <th>93</th>\n",
       "      <td>Adventure|Drama|Science Fiction</td>\n",
       "      <td>2014</td>\n",
       "      <td>24.949134</td>\n",
       "      <td>Interstellar</td>\n",
       "      <td>621752480</td>\n",
       "      <td>165000000</td>\n",
       "    </tr>\n",
       "    <tr>\n",
       "      <th>94</th>\n",
       "      <td>Action|Science Fiction|Adventure</td>\n",
       "      <td>2014</td>\n",
       "      <td>14.311205</td>\n",
       "      <td>Guardians of the Galaxy</td>\n",
       "      <td>773312399</td>\n",
       "      <td>170000000</td>\n",
       "    </tr>\n",
       "    <tr>\n",
       "      <th>95</th>\n",
       "      <td>Action|Adventure|Science Fiction</td>\n",
       "      <td>2014</td>\n",
       "      <td>12.971027</td>\n",
       "      <td>Captain America: The Winter Soldier</td>\n",
       "      <td>714766572</td>\n",
       "      <td>170000000</td>\n",
       "    </tr>\n",
       "    <tr>\n",
       "      <th>96</th>\n",
       "      <td>Action|Thriller</td>\n",
       "      <td>2014</td>\n",
       "      <td>11.422751</td>\n",
       "      <td>John Wick</td>\n",
       "      <td>78739897</td>\n",
       "      <td>20000000</td>\n",
       "    </tr>\n",
       "    <tr>\n",
       "      <th>97</th>\n",
       "      <td>Science Fiction|Adventure|Thriller</td>\n",
       "      <td>2014</td>\n",
       "      <td>10.739009</td>\n",
       "      <td>The Hunger Games: Mockingjay - Part 1</td>\n",
       "      <td>752100229</td>\n",
       "      <td>125000000</td>\n",
       "    </tr>\n",
       "    <tr>\n",
       "      <th>98</th>\n",
       "      <td>Adventure|Fantasy</td>\n",
       "      <td>2014</td>\n",
       "      <td>10.174599</td>\n",
       "      <td>The Hobbit: The Battle of the Five Armies</td>\n",
       "      <td>955119788</td>\n",
       "      <td>250000000</td>\n",
       "    </tr>\n",
       "    <tr>\n",
       "      <th>163</th>\n",
       "      <td>Adventure|Action|Science Fiction</td>\n",
       "      <td>1977</td>\n",
       "      <td>12.037933</td>\n",
       "      <td>Star Wars</td>\n",
       "      <td>775398007</td>\n",
       "      <td>11000000</td>\n",
       "    </tr>\n",
       "  </tbody>\n",
       "</table>\n",
       "</div>"
      ],
      "text/plain": [
       "                                        genres  release_year  popularity  \\\n",
       "0    Action|Adventure|Science Fiction|Thriller          2015   32.985763   \n",
       "1    Action|Adventure|Science Fiction|Thriller          2015   28.419936   \n",
       "2           Adventure|Science Fiction|Thriller          2015   13.112507   \n",
       "3     Action|Adventure|Science Fiction|Fantasy          2015   11.173104   \n",
       "93             Adventure|Drama|Science Fiction          2014   24.949134   \n",
       "94            Action|Science Fiction|Adventure          2014   14.311205   \n",
       "95            Action|Adventure|Science Fiction          2014   12.971027   \n",
       "96                             Action|Thriller          2014   11.422751   \n",
       "97          Science Fiction|Adventure|Thriller          2014   10.739009   \n",
       "98                           Adventure|Fantasy          2014   10.174599   \n",
       "163           Adventure|Action|Science Fiction          1977   12.037933   \n",
       "\n",
       "                                original_title     revenue     budget  \n",
       "0                               Jurassic World  1513528810  150000000  \n",
       "1                           Mad Max: Fury Road   378436354  150000000  \n",
       "2                                    Insurgent   295238201  110000000  \n",
       "3                 Star Wars: The Force Awakens  2068178225  200000000  \n",
       "93                                Interstellar   621752480  165000000  \n",
       "94                     Guardians of the Galaxy   773312399  170000000  \n",
       "95         Captain America: The Winter Soldier   714766572  170000000  \n",
       "96                                   John Wick    78739897   20000000  \n",
       "97       The Hunger Games: Mockingjay - Part 1   752100229  125000000  \n",
       "98   The Hobbit: The Battle of the Five Armies   955119788  250000000  \n",
       "163                                  Star Wars   775398007   11000000  "
      ]
     },
     "execution_count": 135,
     "metadata": {},
     "output_type": "execute_result"
    }
   ],
   "source": [
    "#movies with popularity >= 10\n",
    "bf[['genres', 'release_year', 'popularity' , 'original_title', 'revenue', 'budget']]"
   ]
  },
  {
   "cell_type": "markdown",
   "metadata": {},
   "source": [
    "### Insights\n",
    "\n",
    "1. movies with high vote count generate high revenue\n",
    "2. movies with high vote count are very popular or have high popularity\n",
    "3. movie genre that has been popular from year to year are adventure, action, fantasy, science fiction, and thriller\n",
    "4. high budget movies yielded  high revenues\n",
    "5. more movies are released in the 2000s than the 90s"
   ]
  },
  {
   "cell_type": "markdown",
   "metadata": {},
   "source": [
    "### Visualizations"
   ]
  },
  {
   "cell_type": "code",
   "execution_count": 137,
   "metadata": {},
   "outputs": [
    {
     "data": {
      "image/png": "[encoded data removed]",
      "text/plain": [
       "<Figure size 720x576 with 12 Axes>"
      ]
     },
     "metadata": {
      "needs_background": "light"
     },
     "output_type": "display_data"
    }
   ],
   "source": [
    "df.hist(figsize=(10, 8));"
   ]
  },
  {
   "cell_type": "code",
   "execution_count": 138,
   "metadata": {},
   "outputs": [
    {
     "data": {
      "image/png": "[encoded data removed]",
      "text/plain": [
       "<Figure size 432x288 with 1 Axes>"
      ]
     },
     "metadata": {
      "needs_background": "light"
     },
     "output_type": "display_data"
    }
   ],
   "source": [
    "#grouping movies with revenue by votes \n",
    "df.groupby(\"vote_levels\").revenue.mean().plot(kind='bar', y='revenue', title='vote-revenue chart');"
   ]
  },
  {
   "cell_type": "markdown",
   "metadata": {},
   "source": [
    "the above chart represents vote count and revenue, from what can be observed it is clear that most movies with high votes generated high revenue."
   ]
  },
  {
   "cell_type": "code",
   "execution_count": 139,
   "metadata": {},
   "outputs": [
    {
     "data": {
      "image/png": "[encoded data removed]",
      "text/plain": [
       "<Figure size 432x288 with 1 Axes>"
      ]
     },
     "metadata": {
      "needs_background": "light"
     },
     "output_type": "display_data"
    }
   ],
   "source": [
    "#as of 2010 dollar rate\n",
    "df.groupby(\"vote_levels\").revenue_adj.mean().plot(kind='line', title='vote-revenue chart with new dollar rate');"
   ]
  },
  {
   "cell_type": "markdown",
   "metadata": {},
   "source": [
    "this show that the higher the vote count of a movie, the higher the revenue generated "
   ]
  },
  {
   "cell_type": "code",
   "execution_count": 140,
   "metadata": {},
   "outputs": [
    {
     "data": {
      "image/png": "[encoded data removed]",
      "text/plain": [
       "<Figure size 432x288 with 1 Axes>"
      ]
     },
     "metadata": {
      "needs_background": "light"
     },
     "output_type": "display_data"
    }
   ],
   "source": [
    "# correllation between high budget movies and high revenue?\n",
    "sns.regplot(x='revenue_adj', y='budget_adj', data=df).set(title='relationship between movie budget and revenue');"
   ]
  },
  {
   "cell_type": "markdown",
   "metadata": {},
   "source": [
    "it seems in most cases, high budget movies generate high revenue since it has an upward regression line"
   ]
  },
  {
   "cell_type": "code",
   "execution_count": 53,
   "metadata": {
    "scrolled": true
   },
   "outputs": [
    {
     "data": {
      "image/png": "[encoded data removed]",
      "text/plain": [
       "<Figure size 432x288 with 1 Axes>"
      ]
     },
     "metadata": {
      "needs_background": "light"
     },
     "output_type": "display_data"
    }
   ],
   "source": [
    "def gen_pop(gen=bf['genres'], year=bf['release_year']):\n",
    "    g = sns.lineplot(x=gen, y=year, data=df) .set(title='highest genre popularity from year to year');\n",
    "    plt.xticks(rotation='vertical')\n",
    "    plt.show()\n",
    "    \n",
    "    \n",
    "gen_pop()\n"
   ]
  },
  {
   "cell_type": "markdown",
   "metadata": {},
   "source": [
    "the above chart shows the genre of movie release that has been most popular from year to year."
   ]
  },
  {
   "cell_type": "code",
   "execution_count": null,
   "metadata": {},
   "outputs": [],
   "source": []
  }
 ],
 "metadata": {
  "kernelspec": {
   "display_name": "Python 3 (ipykernel)",
   "language": "python",
   "name": "python3"
  },
  "language_info": {
   "codemirror_mode": {
    "name": "ipython",
    "version": 3
   },
   "file_extension": ".py",
   "mimetype": "text/x-python",
   "name": "python",
   "nbconvert_exporter": "python",
   "pygments_lexer": "ipython3",
   "version": "3.9.7"
  }
 },
 "nbformat": 4,
 "nbformat_minor": 2
}
